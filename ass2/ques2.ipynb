{
 "cells": [
  {
   "cell_type": "code",
   "execution_count": 5,
   "metadata": {},
   "outputs": [],
   "source": [
    "import cv2  \n",
    "import numpy as np\n",
    "import matplotlib.pyplot as plt\n",
    "import random\n",
    "import math"
   ]
  },
  {
   "cell_type": "code",
   "execution_count": 54,
   "metadata": {},
   "outputs": [
    {
     "data": {
      "text/plain": [
       "array([[[0, 0, 0],\n",
       "        [0, 0, 0],\n",
       "        [0, 0, 0],\n",
       "        ...,\n",
       "        [0, 0, 0],\n",
       "        [0, 0, 0],\n",
       "        [0, 0, 0]],\n",
       "\n",
       "       [[0, 0, 0],\n",
       "        [0, 0, 0],\n",
       "        [0, 0, 0],\n",
       "        ...,\n",
       "        [0, 0, 0],\n",
       "        [0, 0, 0],\n",
       "        [0, 0, 0]],\n",
       "\n",
       "       [[0, 0, 0],\n",
       "        [0, 0, 0],\n",
       "        [0, 0, 0],\n",
       "        ...,\n",
       "        [0, 0, 0],\n",
       "        [0, 0, 0],\n",
       "        [0, 0, 0]],\n",
       "\n",
       "       ...,\n",
       "\n",
       "       [[0, 0, 0],\n",
       "        [0, 0, 0],\n",
       "        [0, 0, 0],\n",
       "        ...,\n",
       "        [0, 0, 0],\n",
       "        [0, 0, 0],\n",
       "        [0, 0, 0]],\n",
       "\n",
       "       [[0, 0, 0],\n",
       "        [0, 0, 0],\n",
       "        [0, 0, 0],\n",
       "        ...,\n",
       "        [0, 0, 0],\n",
       "        [0, 0, 0],\n",
       "        [0, 0, 0]],\n",
       "\n",
       "       [[0, 0, 0],\n",
       "        [0, 0, 0],\n",
       "        [0, 0, 0],\n",
       "        ...,\n",
       "        [0, 0, 0],\n",
       "        [0, 0, 0],\n",
       "        [0, 0, 0]]], dtype=uint8)"
      ]
     },
     "execution_count": 54,
     "metadata": {},
     "output_type": "execute_result"
    }
   ],
   "source": [
    "red_sq = np.zeros((100,100,3), np.uint8)\n",
    "blue_sq = np.zeros((100,100,3), np.uint8)\n",
    "red_tr = np.zeros((100,100,3), np.uint8)\n",
    "blue_tr = np.zeros((100,100,3), np.uint8)\n",
    "cv2.rectangle(red_sq, (20, 20), (80, 80), (255, 0, 0), 2)\n",
    "cv2.rectangle(blue_sq, (20, 20), (80, 80), (0, 0, 255), 2)\n",
    "p1 = (20, 80) \n",
    "p2 = (80, 80) \n",
    "p3 = (50, 28)\n",
    "cv2.line(red_tr, p1, p2, (255, 0, 0), 2) \n",
    "cv2.line(red_tr, p2, p3, (255, 0, 0), 2) \n",
    "cv2.line(red_tr, p1, p3, (255, 0, 0), 2) \n",
    "cv2.line(blue_tr, p1, p2, (0, 0, 255), 2) \n",
    "cv2.line(blue_tr, p2, p3, (0, 0, 255), 2) \n",
    "cv2.line(blue_tr, p1, p3, (0, 0, 255), 2) "
   ]
  },
  {
   "cell_type": "code",
   "execution_count": 60,
   "metadata": {},
   "outputs": [],
   "source": [
    "def visual_search(n_obj,type):\n",
    "    n=int(math.ceil(math.sqrt(n_obj)))\n",
    "    dim=n*100\n",
    "    image = np.zeros((dim,dim,3), np.uint8)\n",
    "    if (type==0):\n",
    "        for i in range(n_obj):\n",
    "            image[int(i/n)*100:(int(i/n)+1)*100, int(i%n)*100:(int(i%n)+1)*100] = blue_tr\n",
    "        image[(int(n/2)-1)*100:int(n/2)*100, (int(n/2)-1)*100:int(n/2)*100] = red_tr\n",
    "    elif (type==1):\n",
    "        for i in range(n_obj/2):\n",
    "            if (i==(n_obj/2)-1):\n",
    "                image[int(i/n)*100:(int(i/n)+1)*100, int(i%n)*100:(int(i%n)+1)*100] = red_tr\n",
    "            else:\n",
    "                image[int(i/n)*100:(int(i/n)+1)*100, int(i%n)*100:(int(i%n)+1)*100] = blue_tr\n",
    "        for i in range(n_obj/2,n_obj):\n",
    "            image[int(i/n)*100:(int(i/n)+1)*100, int(i%n)*100:(int(i%n)+1)*100] = red_sq\n",
    "    plt.imshow(image)"
   ]
  },
  {
   "cell_type": "code",
   "execution_count": 61,
   "metadata": {},
   "outputs": [
    {
     "data": {
      "image/png": "[encoded data removed]",
      "text/plain": [
       "<Figure size 432x288 with 1 Axes>"
      ]
     },
     "metadata": {
      "needs_background": "light"
     },
     "output_type": "display_data"
    }
   ],
   "source": [
    "visual_search(14,1)"
   ]
  },
  {
   "cell_type": "code",
   "execution_count": 62,
   "metadata": {},
   "outputs": [
    {
     "data": {
      "image/png": "[encoded data removed]",
      "text/plain": [
       "<Figure size 432x288 with 1 Axes>"
      ]
     },
     "metadata": {
      "needs_background": "light"
     },
     "output_type": "display_data"
    }
   ],
   "source": [
    "visual_search(14,0)"
   ]
  },
  {
   "cell_type": "code",
   "execution_count": null,
   "metadata": {},
   "outputs": [],
   "source": []
  }
 ],
 "metadata": {
  "kernelspec": {
   "display_name": "Python 2",
   "language": "python",
   "name": "python2"
  },
  "language_info": {
   "codemirror_mode": {
    "name": "ipython",
    "version": 2
   },
   "file_extension": ".py",
   "mimetype": "text/x-python",
   "name": "python",
   "nbconvert_exporter": "python",
   "pygments_lexer": "ipython2",
   "version": "2.7.12"
  }
 },
 "nbformat": 4,
 "nbformat_minor": 2
}
