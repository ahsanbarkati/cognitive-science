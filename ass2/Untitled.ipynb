{
 "cells": [
  {
   "cell_type": "code",
   "execution_count": 358,
   "metadata": {},
   "outputs": [],
   "source": [
    "import cv2\n",
    "import matplotlib.pyplot as plt\n",
    "import math\n",
    "import numpy as np"
   ]
  },
  {
   "cell_type": "code",
   "execution_count": 296,
   "metadata": {},
   "outputs": [],
   "source": [
    "tr=cv2.imread('./eq_tri.jpg')\n",
    "sq=cv2.imread('./sq.jpg')"
   ]
  },
  {
   "cell_type": "code",
   "execution_count": 278,
   "metadata": {},
   "outputs": [],
   "source": [
    "def build_filters():\n",
    "    \"\"\" returns a list of kernels in several orientations\n",
    "    \"\"\"\n",
    "    filters = []\n",
    "    ksize = 31\n",
    "    for theta in np.arange(0, np.pi, np.pi / 32):\n",
    "        params = {'ksize':(ksize, ksize), 'sigma':1.0, 'theta':theta, 'lambd':15.0,\n",
    "                  'gamma':0.02, 'psi':0, 'ktype':cv2.CV_32F}\n",
    "        kern = cv2.getGaborKernel(**params)\n",
    "        kern /= 1.5*kern.sum()\n",
    "        filters.append((kern,params))\n",
    "    return filters\n",
    "\n",
    "def process(img, filters):\n",
    "    \"\"\" returns the img filtered by the filter list\n",
    "    \"\"\"\n",
    "    accum = np.zeros_like(img)\n",
    "    for kern,params in filters:\n",
    "        fimg = cv2.filter2D(img, cv2.CV_8UC3, kern)\n",
    "        np.maximum(accum, fimg, accum)\n",
    "    return accum\n",
    "\n",
    "\n",
    "#main\n",
    "filters = build_filters()\n",
    "p = process(im, filters)"
   ]
  },
  {
   "cell_type": "code",
   "execution_count": 437,
   "metadata": {},
   "outputs": [
    {
     "name": "stdout",
     "output_type": "stream",
     "text": [
      "4401354\n"
     ]
    }
   ],
   "source": [
    "kernel = cv2.getGaborKernel((21, 21), 20, 60, 15, 4, 1, cv2.CV_32F)\n",
    "filtered = cv2.filter2D(sq, -1, kernel)\n",
    "image=np.array(filtered)\n",
    "print(image.sum())"
   ]
  },
  {
   "cell_type": "code",
   "execution_count": 436,
   "metadata": {},
   "outputs": [
    {
     "data": {
      "text/plain": [
       "<matplotlib.image.AxesImage at 0x7fafb0123b70>"
      ]
     },
     "execution_count": 436,
     "metadata": {},
     "output_type": "execute_result"
    },
    {
     "data": {
      "image/png": "[encoded data removed]",
      "text/plain": [
       "<Figure size 432x288 with 1 Axes>"
      ]
     },
     "metadata": {
      "needs_background": "light"
     },
     "output_type": "display_data"
    }
   ],
   "source": [
    "1518630\n",
    "plt.imshow(filtered)"
   ]
  },
  {
   "cell_type": "code",
   "execution_count": 384,
   "metadata": {},
   "outputs": [
    {
     "data": {
      "text/plain": [
       "1632438"
      ]
     },
     "execution_count": 384,
     "metadata": {},
     "output_type": "execute_result"
    }
   ],
   "source": [
    "image.sum()"
   ]
  },
  {
   "cell_type": "code",
   "execution_count": 390,
   "metadata": {},
   "outputs": [],
   "source": [
    "tr_angles=[60,-60,90]\n",
    "sq_angles=[0,90]"
   ]
  },
  {
   "cell_type": "code",
   "execution_count": 391,
   "metadata": {},
   "outputs": [
    {
     "data": {
      "image/png": "[encoded data removed]",
      "text/plain": [
       "<Figure size 432x288 with 1 Axes>"
      ]
     },
     "metadata": {
      "needs_background": "light"
     },
     "output_type": "display_data"
    }
   ],
   "source": [
    "for an in tr_angles:\n",
    "    kernel = cv2.getGaborKernel((21, 21), 20, 90, 15, 7, 0, cv2.CV_32F)\n",
    "    filtered = cv2.filter2D(tr, -1, kernel)\n",
    "    image=np.array(filtered)\n",
    "    plt.imshow(filtered)"
   ]
  },
  {
   "cell_type": "code",
   "execution_count": null,
   "metadata": {},
   "outputs": [],
   "source": []
  }
 ],
 "metadata": {
  "kernelspec": {
   "display_name": "Python 3",
   "language": "python",
   "name": "python3"
  },
  "language_info": {
   "codemirror_mode": {
    "name": "ipython",
    "version": 3
   },
   "file_extension": ".py",
   "mimetype": "text/x-python",
   "name": "python",
   "nbconvert_exporter": "python",
   "pygments_lexer": "ipython3",
   "version": "3.5.2"
  }
 },
 "nbformat": 4,
 "nbformat_minor": 2
}
