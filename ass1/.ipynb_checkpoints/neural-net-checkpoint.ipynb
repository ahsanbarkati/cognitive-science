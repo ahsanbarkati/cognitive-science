{
 "cells": [
  {
   "cell_type": "code",
   "execution_count": 2,
   "metadata": {},
   "outputs": [],
   "source": [
    "import numpy as np\n"
   ]
  },
  {
   "cell_type": "code",
   "execution_count": 7,
   "metadata": {},
   "outputs": [],
   "source": [
    "x=np.array([[0,0,0],[0,0,1],[0,1,0],[0,1,1],[1,0,0],[1,0,1],[1,1,0],[1,1,1]])\n",
    "ones=np.array([1 for i in range(8)]).reshape(8,1)\n",
    "x=np.append(ones,x,axis=1)\n",
    "y_target=np.array([[1],[0],[0],[1],[1],[1],[0],[1]])\n",
    "\n",
    "number_hidden=1\n",
    "alpha=0.001\n",
    "\n",
    "w1=np.random.randn(x.shape[1],number_hidden)\n",
    "w2=np.random.randn(number_hidden,1)\n"
   ]
  },
  {
   "cell_type": "code",
   "execution_count": 8,
   "metadata": {},
   "outputs": [],
   "source": [
    "def fun(y):\n",
    "    if(y>0.5):\n",
    "        return 1\n",
    "    else:\n",
    "        return 0\n",
    "fun=np.vectorize(fun)\n",
    "def relu(x):\n",
    "    if(x>0):\n",
    "        return x\n",
    "    else:\n",
    "        return 0\n",
    "def sigmoid(x):\n",
    "    return 1/(1+np.exp(-x))\n",
    "def grad_relu(x):\n",
    "    if(x>0):\n",
    "        return 1\n",
    "    else:\n",
    "        return 0\n",
    "grad_relu=np.vectorize(grad_relu)\n",
    "sigmoid= np.vectorize(sigmoid)\n",
    "relu=np.vectorize(relu)"
   ]
  },
  {
   "cell_type": "code",
   "execution_count": 9,
   "metadata": {},
   "outputs": [],
   "source": [
    "for i in range(10000):\n",
    "    h=np.matmul(x,w1)\n",
    "    a=relu(h)\n",
    "    b=np.matmul(a,w2)\n",
    "    y_pred=sigmoid(b)\n",
    "    loss=-( (1-y_target)*np.log(1-y_pred) + y_target*np.log(y_pred) )\n",
    "    grad_yp=-((y_target-1)/(1-y_pred)+y_target/y_pred)\n",
    "    grad_b=grad_yp*sigmoid(b)*(1-sigmoid(b))\n",
    "    grad_w2=np.matmul(a.T,grad_b)\n",
    "    grad_a=np.matmul(grad_b,w2.T)\n",
    "    grad_h=grad_a*grad_relu(a)\n",
    "    grad_w1=np.matmul(x.T,grad_h)\n",
    "\n",
    "    w1=w1-alpha*grad_w1\n",
    "    w2=w2-alpha*grad_w2"
   ]
  },
  {
   "cell_type": "code",
   "execution_count": 10,
   "metadata": {},
   "outputs": [
    {
     "data": {
      "text/plain": [
       "array([[0],\n",
       "       [0],\n",
       "       [0],\n",
       "       [0],\n",
       "       [0],\n",
       "       [0],\n",
       "       [0],\n",
       "       [0]])"
      ]
     },
     "execution_count": 10,
     "metadata": {},
     "output_type": "execute_result"
    }
   ],
   "source": [
    "h=np.matmul(x,w1)\n",
    "a=relu(h)\n",
    "b=np.matmul(a,w2)\n",
    "y_pred=sigmoid(b)\n",
    "fun(y_pred)"
   ]
  },
  {
   "cell_type": "code",
   "execution_count": null,
   "metadata": {},
   "outputs": [],
   "source": []
  },
  {
   "cell_type": "code",
   "execution_count": null,
   "metadata": {},
   "outputs": [],
   "source": []
  }
 ],
 "metadata": {
  "kernelspec": {
   "display_name": "Python 3",
   "language": "python",
   "name": "python3"
  },
  "language_info": {
   "codemirror_mode": {
    "name": "ipython",
    "version": 3
   },
   "file_extension": ".py",
   "mimetype": "text/x-python",
   "name": "python",
   "nbconvert_exporter": "python",
   "pygments_lexer": "ipython3",
   "version": "3.5.2"
  }
 },
 "nbformat": 4,
 "nbformat_minor": 2
}
